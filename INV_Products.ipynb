{
  "nbformat": 4,
  "nbformat_minor": 0,
  "metadata": {
    "colab": {
      "name": "INV_Products.ipynb",
      "provenance": [],
      "collapsed_sections": []
    },
    "kernelspec": {
      "name": "python3",
      "display_name": "Python 3"
    },
    "language_info": {
      "name": "python"
    }
  },
  "cells": [
    {
      "cell_type": "code",
      "metadata": {
        "id": "W7A9r_zJ5Jg0"
      },
      "source": [
        "import json\n",
        "\n",
        "fd = open('record.json','r')\n",
        "\n",
        "txt = fd.read()\n",
        "\n",
        "fd.close()"
      ],
      "execution_count": null,
      "outputs": []
    },
    {
      "cell_type": "code",
      "metadata": {
        "colab": {
          "base_uri": "https://localhost:8080/",
          "height": 221
        },
        "id": "Yl_jBjCF5lN1",
        "outputId": "20f3ab58-dd6d-481b-fe02-7b9ce53a8c58"
      },
      "source": [
        "txt"
      ],
      "execution_count": null,
      "outputs": [
        {
          "output_type": "execute_result",
          "data": {
            "application/vnd.google.colaboratory.intrinsic+json": {
              "type": "string"
            },
            "text/plain": [
              "'{\"1001\": {\"name\": \"Choco Cake\", \"pr\": 100, \"qn\": 34, \"no\": 12348, \"comp\": \"fasai\"}, \"1002\": {\"name\": \"Milk Cake\", \"pr\": 800, \"qn\": 100, \"no\": 12348, \"comp\": \"Amul\"}, \"1003\": {\"name\": \"Drink\", \"pr\": 85, \"qn\": 100, \"no\": 12348, \"comp\": \"cocacola\"}, \"1004\": {\"name\": \"Candy\", \"pr\": 5, \"qn\": 1000, \"no\": 12348, \"comp\": \"Amul\"}, \"1005\": {\"name\": \"Pen\", \"pr\": 20, \"qn\": 100, \"no\": 12348, \"comp\": \"cello\"}, \"1006\": {\"name\": \"Phone\", \"pr\": 50000, \"qn\": 10, \"no\": 12348, \"comp\": \"iphone\"}, \"1007\": {\"name\": \"Mic\", \"pr\": 1500, \"qn\": 0, \"no\": 12348, \"comp\": \"Sony\"}, \"1008\": {\"name\": \"Case\", \"pr\": 599, \"qn\": 5, \"no\": 12348, \"comp\": \"Sony India Pt Ltd\"}, \"1009\": {\"name\": \"Adapter\", \"no\": \"12349\", \"pr\": 300, \"qn\": 20, \"comp\": \"Sony \"}, \"1010\": {\"name\": \"cone\", \"no\": \"12310\", \"pr\": 30, \"qn\": 50, \"comp\": \"buzz\"}, \"1011\": {\"name\": \"buiscuit\", \"no\": \"123411\", \"pr\": 50, \"qn\": 30, \"comp\": \"fassi\"}, \"1012\": {\"name\": \"vegetable basket\", \"no\": \"123412\", \"pr\": 100, \"qn\": 50, \"comp\": \"Maa Plast\"}, \"1013\": {\"name\": \"yogurt\", \"no\": \"123413\", \"pr\": 50, \"qn\": 10, \"comp\": \"Danone\"}, \"1014\": {\"name\": \"Tooth paste\", \"no\": \"123414\", \"pr\": 45, \"qn\": 30, \"comp\": \"Rani herbals\"}, \"1015\": {\"name\": \"pizza base\", \"no\": \"123415\", \"pr\": 100, \"qn\": 50, \"comp\": \"bimbo\"}, \"1016\": {\"name\": \"soft drink\", \"no\": \"123416\", \"pr\": 30, \"qn\": 22, \"comp\": \"COca-Cola\"}, \"1017\": {\"name\": \"soap\", \"no\": \"123417\", \"pr\": 10, \"qn\": 50, \"comp\": \"johnson pvt ltd\"}, \"1018\": {\"name\": \"ditergent\", \"no\": \"123418\", \"pr\": 70, \"qn\": 10, \"comp\": \"Lenor\"}, \"1019\": {\"name\": \"laundry soap\", \"no\": \"123419\", \"pr\": 30, \"qn\": 10, \"comp\": \"port\"}, \"1020\": {\"name\": \"chocolate\", \"no\": \"123420\", \"pr\": 20, \"qn\": 5, \"comp\": \"Nestle\"}, \"1021\": {\"name\": \"beauty soap\", \"no\": \"123421\", \"pr\": 45, \"qn\": 5, \"comp\": \"lux\"}, \"1023\": {\"name\": \"cupcakes\", \"no\": \"123423\", \"pr\": 35, \"qn\": 10, \"comp\": \"almarai\"}, \"1024\": {\"name\": \"cheese\", \"no\": \"123424\", \"pr\": 400, \"qn\": 1, \"comp\": \"cheez whiz\"}, \"1025\": {\"name\": \"egg\", \"no\": \"123425\", \"pr\": 20, \"qn\": 15, \"comp\": \"velveeta\"}, \"1027\": {\"name\": \"pickel\", \"no\": \"1027\", \"pr\": 300, \"qn\": 10, \"comp\": \"branston\"}, \"1028\": {\"name\": \"sause\", \"no\": \"123428\", \"pr\": 150, \"qn\": 2, \"comp\": \"chicken tonight\"}, \"1029\": {\"name\": \"noodles\", \"no\": \"123429\", \"pr\": 100, \"qn\": 25, \"comp\": \"knorr\"}, \"1030\": {\"name\": \"nut butter\", \"no\": \"123430\", \"pr\": 400, \"qn\": 10, \"comp\": \"nutella\"}, \"1026\": {\"name\": \"yeast\", \"no\": \"123426\", \"pr\": 5, \"qn\": 500, \"comp\": \"fleischmanns yeast\"}, \"1022\": {\"name\": \"jam\", \"no\": \"123422\", \"pr\": 75, \"qn\": 4, \"comp\": \"hartleys\"}}'"
            ]
          },
          "metadata": {},
          "execution_count": 10
        }
      ]
    },
    {
      "cell_type": "code",
      "metadata": {
        "id": "CKJE4sES51N6"
      },
      "source": [
        "dct = json.loads(txt)"
      ],
      "execution_count": null,
      "outputs": []
    },
    {
      "cell_type": "code",
      "metadata": {
        "colab": {
          "base_uri": "https://localhost:8080/"
        },
        "id": "q0BvSu_L51QB",
        "outputId": "ea017c90-ad46-46c4-9367-75827148f5ad"
      },
      "source": [
        "dct"
      ],
      "execution_count": null,
      "outputs": [
        {
          "output_type": "execute_result",
          "data": {
            "text/plain": [
              "{'1001': {'comp': 'fasai',\n",
              "  'name': 'Choco Cake',\n",
              "  'no': 12348,\n",
              "  'pr': 100,\n",
              "  'qn': 34},\n",
              " '1002': {'comp': 'Amul',\n",
              "  'name': 'Milk Cake',\n",
              "  'no': 12348,\n",
              "  'pr': 800,\n",
              "  'qn': 100},\n",
              " '1003': {'comp': 'cocacola',\n",
              "  'name': 'Drink',\n",
              "  'no': 12348,\n",
              "  'pr': 85,\n",
              "  'qn': 100},\n",
              " '1004': {'comp': 'Amul', 'name': 'Candy', 'no': 12348, 'pr': 5, 'qn': 1000},\n",
              " '1005': {'comp': 'cello', 'name': 'Pen', 'no': 12348, 'pr': 20, 'qn': 100},\n",
              " '1006': {'comp': 'iphone',\n",
              "  'name': 'Phone',\n",
              "  'no': 12348,\n",
              "  'pr': 50000,\n",
              "  'qn': 10},\n",
              " '1007': {'comp': 'Sony', 'name': 'Mic', 'no': 12348, 'pr': 1500, 'qn': 0},\n",
              " '1008': {'comp': 'Sony India Pt Ltd',\n",
              "  'name': 'Case',\n",
              "  'no': 12348,\n",
              "  'pr': 599,\n",
              "  'qn': 5},\n",
              " '1009': {'comp': 'Sony ',\n",
              "  'name': 'Adapter',\n",
              "  'no': '12349',\n",
              "  'pr': 300,\n",
              "  'qn': 20},\n",
              " '1010': {'comp': 'buzz', 'name': 'cone', 'no': '12310', 'pr': 30, 'qn': 50},\n",
              " '1011': {'comp': 'fassi',\n",
              "  'name': 'buiscuit',\n",
              "  'no': '123411',\n",
              "  'pr': 50,\n",
              "  'qn': 30},\n",
              " '1012': {'comp': 'Maa Plast',\n",
              "  'name': 'vegetable basket',\n",
              "  'no': '123412',\n",
              "  'pr': 100,\n",
              "  'qn': 50},\n",
              " '1013': {'comp': 'Danone',\n",
              "  'name': 'yogurt',\n",
              "  'no': '123413',\n",
              "  'pr': 50,\n",
              "  'qn': 10},\n",
              " '1014': {'comp': 'Rani herbals',\n",
              "  'name': 'Tooth paste',\n",
              "  'no': '123414',\n",
              "  'pr': 45,\n",
              "  'qn': 30},\n",
              " '1015': {'comp': 'bimbo',\n",
              "  'name': 'pizza base',\n",
              "  'no': '123415',\n",
              "  'pr': 100,\n",
              "  'qn': 50},\n",
              " '1016': {'comp': 'COca-Cola',\n",
              "  'name': 'soft drink',\n",
              "  'no': '123416',\n",
              "  'pr': 30,\n",
              "  'qn': 22},\n",
              " '1017': {'comp': 'johnson pvt ltd',\n",
              "  'name': 'soap',\n",
              "  'no': '123417',\n",
              "  'pr': 10,\n",
              "  'qn': 50},\n",
              " '1018': {'comp': 'Lenor',\n",
              "  'name': 'ditergent',\n",
              "  'no': '123418',\n",
              "  'pr': 70,\n",
              "  'qn': 10},\n",
              " '1019': {'comp': 'port',\n",
              "  'name': 'laundry soap',\n",
              "  'no': '123419',\n",
              "  'pr': 30,\n",
              "  'qn': 10},\n",
              " '1020': {'comp': 'Nestle',\n",
              "  'name': 'chocolate',\n",
              "  'no': '123420',\n",
              "  'pr': 20,\n",
              "  'qn': 5},\n",
              " '1021': {'comp': 'lux',\n",
              "  'name': 'beauty soap',\n",
              "  'no': '123421',\n",
              "  'pr': 45,\n",
              "  'qn': 5},\n",
              " '1022': {'comp': 'hartleys',\n",
              "  'name': 'jam',\n",
              "  'no': '123422',\n",
              "  'pr': 75,\n",
              "  'qn': 4},\n",
              " '1023': {'comp': 'almarai',\n",
              "  'name': 'cupcakes',\n",
              "  'no': '123423',\n",
              "  'pr': 35,\n",
              "  'qn': 10},\n",
              " '1024': {'comp': 'cheez whiz',\n",
              "  'name': 'cheese',\n",
              "  'no': '123424',\n",
              "  'pr': 400,\n",
              "  'qn': 1},\n",
              " '1025': {'comp': 'velveeta',\n",
              "  'name': 'egg',\n",
              "  'no': '123425',\n",
              "  'pr': 20,\n",
              "  'qn': 15},\n",
              " '1026': {'comp': 'fleischmanns yeast',\n",
              "  'name': 'yeast',\n",
              "  'no': '123426',\n",
              "  'pr': 5,\n",
              "  'qn': 500},\n",
              " '1027': {'comp': 'branston',\n",
              "  'name': 'pickel',\n",
              "  'no': '1027',\n",
              "  'pr': 300,\n",
              "  'qn': 10},\n",
              " '1028': {'comp': 'chicken tonight',\n",
              "  'name': 'sause',\n",
              "  'no': '123428',\n",
              "  'pr': 150,\n",
              "  'qn': 2},\n",
              " '1029': {'comp': 'knorr',\n",
              "  'name': 'noodles',\n",
              "  'no': '123429',\n",
              "  'pr': 100,\n",
              "  'qn': 25},\n",
              " '1030': {'comp': 'nutella',\n",
              "  'name': 'nut butter',\n",
              "  'no': '123430',\n",
              "  'pr': 400,\n",
              "  'qn': 10}}"
            ]
          },
          "metadata": {},
          "execution_count": 12
        }
      ]
    },
    {
      "cell_type": "code",
      "metadata": {
        "colab": {
          "base_uri": "https://localhost:8080/"
        },
        "id": "0JijcFcn51UN",
        "outputId": "7723198d-2038-4095-9695-6c6c258840de"
      },
      "source": [
        "prod_id = input(\"Enter product id:\")"
      ],
      "execution_count": null,
      "outputs": [
        {
          "name": "stdout",
          "output_type": "stream",
          "text": [
            "Enter product id:1002\n"
          ]
        }
      ]
    },
    {
      "cell_type": "code",
      "metadata": {
        "colab": {
          "base_uri": "https://localhost:8080/",
          "height": 35
        },
        "id": "k-9o5Ijz51Xp",
        "outputId": "c0da2ab1-d583-439e-a733-458406a88df1"
      },
      "source": [
        "prod_id"
      ],
      "execution_count": null,
      "outputs": [
        {
          "output_type": "execute_result",
          "data": {
            "application/vnd.google.colaboratory.intrinsic+json": {
              "type": "string"
            },
            "text/plain": [
              "'1002'"
            ]
          },
          "metadata": {},
          "execution_count": 14
        }
      ]
    },
    {
      "cell_type": "code",
      "metadata": {
        "colab": {
          "base_uri": "https://localhost:8080/"
        },
        "id": "H_VZbdqj6TFf",
        "outputId": "af353ace-d097-425b-c18c-df9c2949c580"
      },
      "source": [
        "if (prod_id in dct.keys()):\n",
        "  del dct[prod_id]\n",
        "  print(\"Item deleted\")\n",
        "else:\n",
        "  print(\"No item exists\")"
      ],
      "execution_count": null,
      "outputs": [
        {
          "output_type": "stream",
          "name": "stdout",
          "text": [
            "Item deleted\n"
          ]
        }
      ]
    },
    {
      "cell_type": "code",
      "metadata": {
        "colab": {
          "base_uri": "https://localhost:8080/"
        },
        "id": "mZkD2ig96TI1",
        "outputId": "4b080164-c033-447e-9c70-d39ed1bcd1f0"
      },
      "source": [
        "dct"
      ],
      "execution_count": null,
      "outputs": [
        {
          "output_type": "execute_result",
          "data": {
            "text/plain": [
              "{'1001': {'comp': 'fasai',\n",
              "  'name': 'Choco Cake',\n",
              "  'no': 12348,\n",
              "  'pr': 100,\n",
              "  'qn': 34},\n",
              " '1003': {'comp': 'cocacola',\n",
              "  'name': 'Drink',\n",
              "  'no': 12348,\n",
              "  'pr': 85,\n",
              "  'qn': 100},\n",
              " '1004': {'comp': 'Amul', 'name': 'Candy', 'no': 12348, 'pr': 5, 'qn': 1000},\n",
              " '1005': {'comp': 'cello', 'name': 'Pen', 'no': 12348, 'pr': 20, 'qn': 100},\n",
              " '1006': {'comp': 'iphone',\n",
              "  'name': 'Phone',\n",
              "  'no': 12348,\n",
              "  'pr': 50000,\n",
              "  'qn': 10},\n",
              " '1007': {'comp': 'Sony', 'name': 'Mic', 'no': 12348, 'pr': 1500, 'qn': 0},\n",
              " '1008': {'comp': 'Sony India Pt Ltd',\n",
              "  'name': 'Case',\n",
              "  'no': 12348,\n",
              "  'pr': 599,\n",
              "  'qn': 5},\n",
              " '1009': {'comp': 'Sony ',\n",
              "  'name': 'Adapter',\n",
              "  'no': '12349',\n",
              "  'pr': 300,\n",
              "  'qn': 20},\n",
              " '1010': {'comp': 'buzz', 'name': 'cone', 'no': '12310', 'pr': 30, 'qn': 50},\n",
              " '1011': {'comp': 'fassi',\n",
              "  'name': 'buiscuit',\n",
              "  'no': '123411',\n",
              "  'pr': 50,\n",
              "  'qn': 30},\n",
              " '1012': {'comp': 'Maa Plast',\n",
              "  'name': 'vegetable basket',\n",
              "  'no': '123412',\n",
              "  'pr': 100,\n",
              "  'qn': 50},\n",
              " '1013': {'comp': 'Danone',\n",
              "  'name': 'yogurt',\n",
              "  'no': '123413',\n",
              "  'pr': 50,\n",
              "  'qn': 10},\n",
              " '1014': {'comp': 'Rani herbals',\n",
              "  'name': 'Tooth paste',\n",
              "  'no': '123414',\n",
              "  'pr': 45,\n",
              "  'qn': 30},\n",
              " '1015': {'comp': 'bimbo',\n",
              "  'name': 'pizza base',\n",
              "  'no': '123415',\n",
              "  'pr': 100,\n",
              "  'qn': 50},\n",
              " '1016': {'comp': 'COca-Cola',\n",
              "  'name': 'soft drink',\n",
              "  'no': '123416',\n",
              "  'pr': 30,\n",
              "  'qn': 22},\n",
              " '1017': {'comp': 'johnson pvt ltd',\n",
              "  'name': 'soap',\n",
              "  'no': '123417',\n",
              "  'pr': 10,\n",
              "  'qn': 50},\n",
              " '1018': {'comp': 'Lenor',\n",
              "  'name': 'ditergent',\n",
              "  'no': '123418',\n",
              "  'pr': 70,\n",
              "  'qn': 10},\n",
              " '1019': {'comp': 'port',\n",
              "  'name': 'laundry soap',\n",
              "  'no': '123419',\n",
              "  'pr': 30,\n",
              "  'qn': 10},\n",
              " '1020': {'comp': 'Nestle',\n",
              "  'name': 'chocolate',\n",
              "  'no': '123420',\n",
              "  'pr': 20,\n",
              "  'qn': 5},\n",
              " '1021': {'comp': 'lux',\n",
              "  'name': 'beauty soap',\n",
              "  'no': '123421',\n",
              "  'pr': 45,\n",
              "  'qn': 5},\n",
              " '1022': {'comp': 'hartleys',\n",
              "  'name': 'jam',\n",
              "  'no': '123422',\n",
              "  'pr': 75,\n",
              "  'qn': 4},\n",
              " '1023': {'comp': 'almarai',\n",
              "  'name': 'cupcakes',\n",
              "  'no': '123423',\n",
              "  'pr': 35,\n",
              "  'qn': 10},\n",
              " '1024': {'comp': 'cheez whiz',\n",
              "  'name': 'cheese',\n",
              "  'no': '123424',\n",
              "  'pr': 400,\n",
              "  'qn': 1},\n",
              " '1025': {'comp': 'velveeta',\n",
              "  'name': 'egg',\n",
              "  'no': '123425',\n",
              "  'pr': 20,\n",
              "  'qn': 15},\n",
              " '1026': {'comp': 'fleischmanns yeast',\n",
              "  'name': 'yeast',\n",
              "  'no': '123426',\n",
              "  'pr': 5,\n",
              "  'qn': 500},\n",
              " '1027': {'comp': 'branston',\n",
              "  'name': 'pickel',\n",
              "  'no': '1027',\n",
              "  'pr': 300,\n",
              "  'qn': 10},\n",
              " '1028': {'comp': 'chicken tonight',\n",
              "  'name': 'sause',\n",
              "  'no': '123428',\n",
              "  'pr': 150,\n",
              "  'qn': 2},\n",
              " '1029': {'comp': 'knorr',\n",
              "  'name': 'noodles',\n",
              "  'no': '123429',\n",
              "  'pr': 100,\n",
              "  'qn': 25},\n",
              " '1030': {'comp': 'nutella',\n",
              "  'name': 'nut butter',\n",
              "  'no': '123430',\n",
              "  'pr': 400,\n",
              "  'qn': 10}}"
            ]
          },
          "metadata": {},
          "execution_count": 16
        }
      ]
    },
    {
      "cell_type": "code",
      "metadata": {
        "id": "7gzZ6O9E6lKr"
      },
      "source": [
        "import json\n",
        "\n",
        "js = json.dumps(dct)"
      ],
      "execution_count": null,
      "outputs": []
    },
    {
      "cell_type": "code",
      "metadata": {
        "colab": {
          "base_uri": "https://localhost:8080/",
          "height": 221
        },
        "id": "RgVcma7b6wnU",
        "outputId": "1f11e0b1-bbda-40d1-b5dd-7389d3aa4df4"
      },
      "source": [
        "js"
      ],
      "execution_count": null,
      "outputs": [
        {
          "output_type": "execute_result",
          "data": {
            "application/vnd.google.colaboratory.intrinsic+json": {
              "type": "string"
            },
            "text/plain": [
              "'{\"1001\": {\"name\": \"Choco Cake\", \"pr\": 100, \"qn\": 34, \"no\": 12348, \"comp\": \"fasai\"}, \"1003\": {\"name\": \"Drink\", \"pr\": 85, \"qn\": 100, \"no\": 12348, \"comp\": \"cocacola\"}, \"1004\": {\"name\": \"Candy\", \"pr\": 5, \"qn\": 1000, \"no\": 12348, \"comp\": \"Amul\"}, \"1005\": {\"name\": \"Pen\", \"pr\": 20, \"qn\": 100, \"no\": 12348, \"comp\": \"cello\"}, \"1006\": {\"name\": \"Phone\", \"pr\": 50000, \"qn\": 10, \"no\": 12348, \"comp\": \"iphone\"}, \"1007\": {\"name\": \"Mic\", \"pr\": 1500, \"qn\": 0, \"no\": 12348, \"comp\": \"Sony\"}, \"1008\": {\"name\": \"Case\", \"pr\": 599, \"qn\": 5, \"no\": 12348, \"comp\": \"Sony India Pt Ltd\"}, \"1009\": {\"name\": \"Adapter\", \"no\": \"12349\", \"pr\": 300, \"qn\": 20, \"comp\": \"Sony \"}, \"1010\": {\"name\": \"cone\", \"no\": \"12310\", \"pr\": 30, \"qn\": 50, \"comp\": \"buzz\"}, \"1011\": {\"name\": \"buiscuit\", \"no\": \"123411\", \"pr\": 50, \"qn\": 30, \"comp\": \"fassi\"}, \"1012\": {\"name\": \"vegetable basket\", \"no\": \"123412\", \"pr\": 100, \"qn\": 50, \"comp\": \"Maa Plast\"}, \"1013\": {\"name\": \"yogurt\", \"no\": \"123413\", \"pr\": 50, \"qn\": 10, \"comp\": \"Danone\"}, \"1014\": {\"name\": \"Tooth paste\", \"no\": \"123414\", \"pr\": 45, \"qn\": 30, \"comp\": \"Rani herbals\"}, \"1015\": {\"name\": \"pizza base\", \"no\": \"123415\", \"pr\": 100, \"qn\": 50, \"comp\": \"bimbo\"}, \"1016\": {\"name\": \"soft drink\", \"no\": \"123416\", \"pr\": 30, \"qn\": 22, \"comp\": \"COca-Cola\"}, \"1017\": {\"name\": \"soap\", \"no\": \"123417\", \"pr\": 10, \"qn\": 50, \"comp\": \"johnson pvt ltd\"}, \"1018\": {\"name\": \"ditergent\", \"no\": \"123418\", \"pr\": 70, \"qn\": 10, \"comp\": \"Lenor\"}, \"1019\": {\"name\": \"laundry soap\", \"no\": \"123419\", \"pr\": 30, \"qn\": 10, \"comp\": \"port\"}, \"1020\": {\"name\": \"chocolate\", \"no\": \"123420\", \"pr\": 20, \"qn\": 5, \"comp\": \"Nestle\"}, \"1021\": {\"name\": \"beauty soap\", \"no\": \"123421\", \"pr\": 45, \"qn\": 5, \"comp\": \"lux\"}, \"1023\": {\"name\": \"cupcakes\", \"no\": \"123423\", \"pr\": 35, \"qn\": 10, \"comp\": \"almarai\"}, \"1024\": {\"name\": \"cheese\", \"no\": \"123424\", \"pr\": 400, \"qn\": 1, \"comp\": \"cheez whiz\"}, \"1025\": {\"name\": \"egg\", \"no\": \"123425\", \"pr\": 20, \"qn\": 15, \"comp\": \"velveeta\"}, \"1027\": {\"name\": \"pickel\", \"no\": \"1027\", \"pr\": 300, \"qn\": 10, \"comp\": \"branston\"}, \"1028\": {\"name\": \"sause\", \"no\": \"123428\", \"pr\": 150, \"qn\": 2, \"comp\": \"chicken tonight\"}, \"1029\": {\"name\": \"noodles\", \"no\": \"123429\", \"pr\": 100, \"qn\": 25, \"comp\": \"knorr\"}, \"1030\": {\"name\": \"nut butter\", \"no\": \"123430\", \"pr\": 400, \"qn\": 10, \"comp\": \"nutella\"}, \"1026\": {\"name\": \"yeast\", \"no\": \"123426\", \"pr\": 5, \"qn\": 500, \"comp\": \"fleischmanns yeast\"}, \"1022\": {\"name\": \"jam\", \"no\": \"123422\", \"pr\": 75, \"qn\": 4, \"comp\": \"hartleys\"}}'"
            ]
          },
          "metadata": {},
          "execution_count": 18
        }
      ]
    },
    {
      "cell_type": "code",
      "metadata": {
        "id": "g2AtmQaO6wpN"
      },
      "source": [
        "fd = open('record.json','w')\n",
        "\n",
        "fd.write(js)\n",
        "\n",
        "fd.close()"
      ],
      "execution_count": null,
      "outputs": []
    },
    {
      "cell_type": "code",
      "metadata": {
        "id": "tuU2Q4n46wsG"
      },
      "source": [
        "import time"
      ],
      "execution_count": null,
      "outputs": []
    },
    {
      "cell_type": "code",
      "metadata": {
        "colab": {
          "base_uri": "https://localhost:8080/",
          "height": 35
        },
        "id": "DU_Ccmyv679I",
        "outputId": "f41de352-bc36-4d6a-f85e-70ffb813182c"
      },
      "source": [
        "time.ctime()"
      ],
      "execution_count": null,
      "outputs": [
        {
          "output_type": "execute_result",
          "data": {
            "application/vnd.google.colaboratory.intrinsic+json": {
              "type": "string"
            },
            "text/plain": [
              "'Sun Sep  5 21:45:06 2021'"
            ]
          },
          "metadata": {},
          "execution_count": 21
        }
      ]
    },
    {
      "cell_type": "code",
      "metadata": {
        "id": "wiG8ECYR67_N"
      },
      "source": [
        "dct[str(len(dct))] = {\"name\" : 'cupcake'}"
      ],
      "execution_count": null,
      "outputs": []
    },
    {
      "cell_type": "code",
      "metadata": {
        "colab": {
          "base_uri": "https://localhost:8080/"
        },
        "id": "dn5FxoiE68Cs",
        "outputId": "11cb154e-e738-4d8f-9b0f-c7c935c5e672"
      },
      "source": [
        "dct"
      ],
      "execution_count": null,
      "outputs": [
        {
          "output_type": "execute_result",
          "data": {
            "text/plain": [
              "{'1001': {'comp': 'fasai',\n",
              "  'name': 'Choco Cake',\n",
              "  'no': 12348,\n",
              "  'pr': 100,\n",
              "  'qn': 34},\n",
              " '1003': {'comp': 'cocacola',\n",
              "  'name': 'Drink',\n",
              "  'no': 12348,\n",
              "  'pr': 85,\n",
              "  'qn': 100},\n",
              " '1004': {'comp': 'Amul', 'name': 'Candy', 'no': 12348, 'pr': 5, 'qn': 1000},\n",
              " '1005': {'comp': 'cello', 'name': 'Pen', 'no': 12348, 'pr': 20, 'qn': 100},\n",
              " '1006': {'comp': 'iphone',\n",
              "  'name': 'Phone',\n",
              "  'no': 12348,\n",
              "  'pr': 50000,\n",
              "  'qn': 10},\n",
              " '1007': {'comp': 'Sony', 'name': 'Mic', 'no': 12348, 'pr': 1500, 'qn': 0},\n",
              " '1008': {'comp': 'Sony India Pt Ltd',\n",
              "  'name': 'Case',\n",
              "  'no': 12348,\n",
              "  'pr': 599,\n",
              "  'qn': 5},\n",
              " '1009': {'comp': 'Sony ',\n",
              "  'name': 'Adapter',\n",
              "  'no': '12349',\n",
              "  'pr': 300,\n",
              "  'qn': 20},\n",
              " '1010': {'comp': 'buzz', 'name': 'cone', 'no': '12310', 'pr': 30, 'qn': 50},\n",
              " '1011': {'comp': 'fassi',\n",
              "  'name': 'buiscuit',\n",
              "  'no': '123411',\n",
              "  'pr': 50,\n",
              "  'qn': 30},\n",
              " '1012': {'comp': 'Maa Plast',\n",
              "  'name': 'vegetable basket',\n",
              "  'no': '123412',\n",
              "  'pr': 100,\n",
              "  'qn': 50},\n",
              " '1013': {'comp': 'Danone',\n",
              "  'name': 'yogurt',\n",
              "  'no': '123413',\n",
              "  'pr': 50,\n",
              "  'qn': 10},\n",
              " '1014': {'comp': 'Rani herbals',\n",
              "  'name': 'Tooth paste',\n",
              "  'no': '123414',\n",
              "  'pr': 45,\n",
              "  'qn': 30},\n",
              " '1015': {'comp': 'bimbo',\n",
              "  'name': 'pizza base',\n",
              "  'no': '123415',\n",
              "  'pr': 100,\n",
              "  'qn': 50},\n",
              " '1016': {'comp': 'COca-Cola',\n",
              "  'name': 'soft drink',\n",
              "  'no': '123416',\n",
              "  'pr': 30,\n",
              "  'qn': 22},\n",
              " '1017': {'comp': 'johnson pvt ltd',\n",
              "  'name': 'soap',\n",
              "  'no': '123417',\n",
              "  'pr': 10,\n",
              "  'qn': 50},\n",
              " '1018': {'comp': 'Lenor',\n",
              "  'name': 'ditergent',\n",
              "  'no': '123418',\n",
              "  'pr': 70,\n",
              "  'qn': 10},\n",
              " '1019': {'comp': 'port',\n",
              "  'name': 'laundry soap',\n",
              "  'no': '123419',\n",
              "  'pr': 30,\n",
              "  'qn': 10},\n",
              " '1020': {'comp': 'Nestle',\n",
              "  'name': 'chocolate',\n",
              "  'no': '123420',\n",
              "  'pr': 20,\n",
              "  'qn': 5},\n",
              " '1021': {'comp': 'lux',\n",
              "  'name': 'beauty soap',\n",
              "  'no': '123421',\n",
              "  'pr': 45,\n",
              "  'qn': 5},\n",
              " '1022': {'comp': 'hartleys',\n",
              "  'name': 'jam',\n",
              "  'no': '123422',\n",
              "  'pr': 75,\n",
              "  'qn': 4},\n",
              " '1023': {'comp': 'almarai',\n",
              "  'name': 'cupcakes',\n",
              "  'no': '123423',\n",
              "  'pr': 35,\n",
              "  'qn': 10},\n",
              " '1024': {'comp': 'cheez whiz',\n",
              "  'name': 'cheese',\n",
              "  'no': '123424',\n",
              "  'pr': 400,\n",
              "  'qn': 1},\n",
              " '1025': {'comp': 'velveeta',\n",
              "  'name': 'egg',\n",
              "  'no': '123425',\n",
              "  'pr': 20,\n",
              "  'qn': 15},\n",
              " '1026': {'comp': 'fleischmanns yeast',\n",
              "  'name': 'yeast',\n",
              "  'no': '123426',\n",
              "  'pr': 5,\n",
              "  'qn': 500},\n",
              " '1027': {'comp': 'branston',\n",
              "  'name': 'pickel',\n",
              "  'no': '1027',\n",
              "  'pr': 300,\n",
              "  'qn': 10},\n",
              " '1028': {'comp': 'chicken tonight',\n",
              "  'name': 'sause',\n",
              "  'no': '123428',\n",
              "  'pr': 150,\n",
              "  'qn': 2},\n",
              " '1029': {'comp': 'knorr',\n",
              "  'name': 'noodles',\n",
              "  'no': '123429',\n",
              "  'pr': 100,\n",
              "  'qn': 25},\n",
              " '1030': {'comp': 'nutella',\n",
              "  'name': 'nut butter',\n",
              "  'no': '123430',\n",
              "  'pr': 400,\n",
              "  'qn': 10},\n",
              " '29': {'name': 'cupcake'}}"
            ]
          },
          "metadata": {},
          "execution_count": 23
        }
      ]
    },
    {
      "cell_type": "code",
      "metadata": {
        "colab": {
          "base_uri": "https://localhost:8080/"
        },
        "id": "ZFVnodBY6wuF",
        "outputId": "66867b79-92ab-4668-86e9-99475ed54814"
      },
      "source": [
        "int('2') * int(12)"
      ],
      "execution_count": null,
      "outputs": [
        {
          "output_type": "execute_result",
          "data": {
            "text/plain": [
              "24"
            ]
          },
          "metadata": {},
          "execution_count": 24
        }
      ]
    },
    {
      "cell_type": "code",
      "metadata": {
        "id": "WCjAx7LU6wxA"
      },
      "source": [
        ""
      ],
      "execution_count": null,
      "outputs": []
    }
  ]
}